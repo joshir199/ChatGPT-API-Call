{
  "nbformat": 4,
  "nbformat_minor": 0,
  "metadata": {
    "colab": {
      "provenance": []
    },
    "kernelspec": {
      "name": "python3",
      "display_name": "Python 3"
    },
    "language_info": {
      "name": "python"
    }
  },
  "cells": [
    {
      "cell_type": "code",
      "source": [
        "# Using ChatGPT API calls for practical use case in custom environment"
      ],
      "metadata": {
        "id": "l2As4NaieWEq"
      },
      "execution_count": null,
      "outputs": []
    },
    {
      "cell_type": "code",
      "execution_count": null,
      "metadata": {
        "id": "ID4ksmiTQ4z4"
      },
      "outputs": [],
      "source": [
        "# install openai library first\n",
        "!pip install openai"
      ]
    },
    {
      "cell_type": "code",
      "source": [
        "# import the openai library and set the openai API key for private usage\n",
        "\n",
        "import os\n",
        "import openai\n",
        "\n",
        "# set generated API key(aplha-numeric) for openai from its website. please refer to as shown in image : ChatGPT-API-key.png.\n",
        "# you can also set using venv (virtual environment).\n",
        "openai.key = \"xxxxxxxxxxxxxxxx\"\n"
      ],
      "metadata": {
        "id": "EXMMtmqiRKmM"
      },
      "execution_count": null,
      "outputs": []
    },
    {
      "cell_type": "code",
      "source": [
        "# generating text for some simple query like : Tell me about European Union in few sentences.\n",
        "# just need to call ChatCompletion.create() from openai library\n",
        "# It uses \"gpt-3.5-turbo\" model for making prediction\n",
        "completion = openai.ChatCompletion.create(\n",
        "  model='gpt-3.5-turbo'\n",
        "  messages=[\n",
        "    {'role': 'user', 'content': 'Tell me about European Union in few sentences.'}\n",
        "  ]\n",
        ")\n",
        "print(completion.choices[0].message.content)\n",
        "# generates answer like below:\n",
        "# The European Union (EU) is a political and economic union of 27 European countries, established with\n",
        "# the aim of promoting peace, stability, and prosperity in the region. It was founded on November 1, 1993,\n",
        "# with the Maastricht Treaty. The EU operates as a single market with free movement of goods, services,\n",
        "# capital, and people between member states. It also has .............. (and more)"
      ],
      "metadata": {
        "id": "gmBCIZ4Pe7j6"
      },
      "execution_count": null,
      "outputs": []
    },
    {
      "cell_type": "code",
      "source": [
        "# messages are the most important term in this API call\n",
        "\n",
        "# messages is the list of disctionary containing two parameter :\n",
        "# 1. \"role\"\n",
        "# 2. \"content\"\n",
        "\n",
        "# Lets learn about \"role\" parameter\n",
        "# It can take three different values:\n",
        "# 1. system : Its only used in the first prompt to give the chat engine some guidelines on its personality and how to respond and interact with the user.\n",
        "# 2. user : This is for the questions or prompts entered by the user. (also query term)\n",
        "# 3. assistant : For reload the responses returned by the ChatGPT engine to remember previous questions context."
      ],
      "metadata": {
        "id": "T51ZdGRgeMZ3"
      },
      "execution_count": null,
      "outputs": []
    },
    {
      "cell_type": "code",
      "source": [
        "# Let's implement Chat feature for general function which will make use of all the roles and\n",
        "# make the chat platform more intelligent and interactive.\n",
        "\n",
        "def askChatGPTFunction(question, messageLog=None):\n",
        "    if messageLog is None:\n",
        "        messageLog.append(\n",
        "            {\n",
        "                'role': 'system',\n",
        "                'content': \"You are an intelligent and patient assistant\"\n",
        "            }\n",
        "        )\n",
        "\n",
        "    messageLog.append(\n",
        "        {\n",
        "            'role': 'user',\n",
        "            'content': question\n",
        "        }\n",
        "    )\n",
        "\n",
        "    response = openai.ChatCompletion.create(\n",
        "        model='gpt-3.5-turbo',\n",
        "        messages=messageLog\n",
        "    )\n",
        "    answer = response.choices[0]['message']['content']\n",
        "    messageLog.append({\n",
        "        'role': 'assistant',\n",
        "        'content': answer\n",
        "    })\n",
        "    return answer, messageLog"
      ],
      "metadata": {
        "id": "xb11IaOElNnk"
      },
      "execution_count": null,
      "outputs": []
    },
    {
      "cell_type": "code",
      "source": [
        "# Make ChatBot Function for Conservation with upto last 10 context in consideration\n",
        "\n",
        "def ChatBot():\n",
        "  message = None\n",
        "  numPrevContext = 0\n",
        "  while numPrevContext<10 :\n",
        "    question = input(\"User: \")\n",
        "    response, message = askChatGPTFunction(question, message)\n",
        "    print(f'Bot: {response}')\n",
        "    numPrevContext += 1\n"
      ],
      "metadata": {
        "id": "FwuL3A-hAUCQ"
      },
      "execution_count": null,
      "outputs": []
    },
    {
      "cell_type": "code",
      "source": [
        "# Call the Chatbot for interaction\n",
        "ChatBot()"
      ],
      "metadata": {
        "id": "k-BQkr3TIm8L"
      },
      "execution_count": null,
      "outputs": []
    }
  ]
}